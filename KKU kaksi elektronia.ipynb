{
 "cells": [
  {
   "cell_type": "markdown",
   "metadata": {},
   "source": [
    "# KKU dielectron.csv materiaalin käsittelyä"
   ]
  },
  {
   "cell_type": "markdown",
   "metadata": {},
   "source": [
    "Tuodaan kirjastot:"
   ]
  },
  {
   "cell_type": "code",
   "execution_count": 1,
   "metadata": {},
   "outputs": [],
   "source": [
    "import numpy as np\n",
    "import pandas as pd\n",
    "import matplotlib.pyplot as plt\n",
    "\n",
    "%matplotlib inline"
   ]
  },
  {
   "cell_type": "markdown",
   "metadata": {},
   "source": [
    "Luetaan .csv-tiedosto sisälle."
   ]
  },
  {
   "cell_type": "code",
   "execution_count": 7,
   "metadata": {},
   "outputs": [],
   "source": [
    "dielectron=pd.read_csv('../../Data/dielectron.csv')"
   ]
  },
  {
   "cell_type": "markdown",
   "metadata": {},
   "source": [
    "Vilkaistaan aineistoa."
   ]
  },
  {
   "cell_type": "code",
   "execution_count": 8,
   "metadata": {},
   "outputs": [
    {
     "data": {
      "text/html": [
       "<div>\n",
       "<style scoped>\n",
       "    .dataframe tbody tr th:only-of-type {\n",
       "        vertical-align: middle;\n",
       "    }\n",
       "\n",
       "    .dataframe tbody tr th {\n",
       "        vertical-align: top;\n",
       "    }\n",
       "\n",
       "    .dataframe thead th {\n",
       "        text-align: right;\n",
       "    }\n",
       "</style>\n",
       "<table border=\"1\" class=\"dataframe\">\n",
       "  <thead>\n",
       "    <tr style=\"text-align: right;\">\n",
       "      <th></th>\n",
       "      <th>Run</th>\n",
       "      <th>Event</th>\n",
       "      <th>E1</th>\n",
       "      <th>px1</th>\n",
       "      <th>py1</th>\n",
       "      <th>pz1</th>\n",
       "      <th>pt1</th>\n",
       "      <th>eta1</th>\n",
       "      <th>phi1</th>\n",
       "      <th>Q1</th>\n",
       "      <th>E2</th>\n",
       "      <th>px2</th>\n",
       "      <th>py2</th>\n",
       "      <th>pz2</th>\n",
       "      <th>pt2</th>\n",
       "      <th>eta2</th>\n",
       "      <th>phi2</th>\n",
       "      <th>Q2</th>\n",
       "      <th>M</th>\n",
       "    </tr>\n",
       "  </thead>\n",
       "  <tbody>\n",
       "    <tr>\n",
       "      <th>0</th>\n",
       "      <td>147115</td>\n",
       "      <td>366639895</td>\n",
       "      <td>58.71410</td>\n",
       "      <td>-7.31132</td>\n",
       "      <td>10.531000</td>\n",
       "      <td>-57.29740</td>\n",
       "      <td>12.82020</td>\n",
       "      <td>-2.20267</td>\n",
       "      <td>2.17766</td>\n",
       "      <td>1</td>\n",
       "      <td>11.2836</td>\n",
       "      <td>-1.032340</td>\n",
       "      <td>-1.88066</td>\n",
       "      <td>-11.0778</td>\n",
       "      <td>2.14537</td>\n",
       "      <td>-2.344030</td>\n",
       "      <td>-2.072810</td>\n",
       "      <td>-1</td>\n",
       "      <td>8.94841</td>\n",
       "    </tr>\n",
       "    <tr>\n",
       "      <th>1</th>\n",
       "      <td>147115</td>\n",
       "      <td>366704169</td>\n",
       "      <td>6.61188</td>\n",
       "      <td>-4.15213</td>\n",
       "      <td>-0.579855</td>\n",
       "      <td>-5.11278</td>\n",
       "      <td>4.19242</td>\n",
       "      <td>-1.02842</td>\n",
       "      <td>-3.00284</td>\n",
       "      <td>-1</td>\n",
       "      <td>17.1492</td>\n",
       "      <td>-11.713500</td>\n",
       "      <td>5.04474</td>\n",
       "      <td>11.4647</td>\n",
       "      <td>12.75360</td>\n",
       "      <td>0.808077</td>\n",
       "      <td>2.734920</td>\n",
       "      <td>1</td>\n",
       "      <td>15.89300</td>\n",
       "    </tr>\n",
       "    <tr>\n",
       "      <th>2</th>\n",
       "      <td>147115</td>\n",
       "      <td>367112316</td>\n",
       "      <td>25.54190</td>\n",
       "      <td>-11.48090</td>\n",
       "      <td>2.041680</td>\n",
       "      <td>22.72460</td>\n",
       "      <td>11.66100</td>\n",
       "      <td>1.42048</td>\n",
       "      <td>2.96560</td>\n",
       "      <td>1</td>\n",
       "      <td>15.8203</td>\n",
       "      <td>-1.472800</td>\n",
       "      <td>2.25895</td>\n",
       "      <td>-15.5888</td>\n",
       "      <td>2.69667</td>\n",
       "      <td>-2.455080</td>\n",
       "      <td>2.148570</td>\n",
       "      <td>1</td>\n",
       "      <td>38.38770</td>\n",
       "    </tr>\n",
       "    <tr>\n",
       "      <th>3</th>\n",
       "      <td>147115</td>\n",
       "      <td>366952149</td>\n",
       "      <td>65.39590</td>\n",
       "      <td>7.51214</td>\n",
       "      <td>11.887100</td>\n",
       "      <td>63.86620</td>\n",
       "      <td>14.06190</td>\n",
       "      <td>2.21838</td>\n",
       "      <td>1.00721</td>\n",
       "      <td>1</td>\n",
       "      <td>25.1273</td>\n",
       "      <td>4.087860</td>\n",
       "      <td>2.59641</td>\n",
       "      <td>24.6563</td>\n",
       "      <td>4.84272</td>\n",
       "      <td>2.330210</td>\n",
       "      <td>0.565865</td>\n",
       "      <td>-1</td>\n",
       "      <td>3.72862</td>\n",
       "    </tr>\n",
       "    <tr>\n",
       "      <th>4</th>\n",
       "      <td>147115</td>\n",
       "      <td>366523212</td>\n",
       "      <td>61.45040</td>\n",
       "      <td>2.95284</td>\n",
       "      <td>-14.622700</td>\n",
       "      <td>-59.61210</td>\n",
       "      <td>14.91790</td>\n",
       "      <td>-2.09375</td>\n",
       "      <td>-1.37154</td>\n",
       "      <td>-1</td>\n",
       "      <td>13.8871</td>\n",
       "      <td>-0.277757</td>\n",
       "      <td>-2.42560</td>\n",
       "      <td>-13.6708</td>\n",
       "      <td>2.44145</td>\n",
       "      <td>-2.423700</td>\n",
       "      <td>-1.684810</td>\n",
       "      <td>-1</td>\n",
       "      <td>2.74718</td>\n",
       "    </tr>\n",
       "  </tbody>\n",
       "</table>\n",
       "</div>"
      ],
      "text/plain": [
       "      Run      Event        E1       px1        py1       pz1       pt1  \\\n",
       "0  147115  366639895  58.71410  -7.31132  10.531000 -57.29740  12.82020   \n",
       "1  147115  366704169   6.61188  -4.15213  -0.579855  -5.11278   4.19242   \n",
       "2  147115  367112316  25.54190 -11.48090   2.041680  22.72460  11.66100   \n",
       "3  147115  366952149  65.39590   7.51214  11.887100  63.86620  14.06190   \n",
       "4  147115  366523212  61.45040   2.95284 -14.622700 -59.61210  14.91790   \n",
       "\n",
       "      eta1     phi1  Q1       E2        px2      py2      pz2       pt2  \\\n",
       "0 -2.20267  2.17766   1  11.2836  -1.032340 -1.88066 -11.0778   2.14537   \n",
       "1 -1.02842 -3.00284  -1  17.1492 -11.713500  5.04474  11.4647  12.75360   \n",
       "2  1.42048  2.96560   1  15.8203  -1.472800  2.25895 -15.5888   2.69667   \n",
       "3  2.21838  1.00721   1  25.1273   4.087860  2.59641  24.6563   4.84272   \n",
       "4 -2.09375 -1.37154  -1  13.8871  -0.277757 -2.42560 -13.6708   2.44145   \n",
       "\n",
       "       eta2      phi2  Q2         M  \n",
       "0 -2.344030 -2.072810  -1   8.94841  \n",
       "1  0.808077  2.734920   1  15.89300  \n",
       "2 -2.455080  2.148570   1  38.38770  \n",
       "3  2.330210  0.565865  -1   3.72862  \n",
       "4 -2.423700 -1.684810  -1   2.74718  "
      ]
     },
     "execution_count": 8,
     "metadata": {},
     "output_type": "execute_result"
    }
   ],
   "source": [
    "dielectron.head()"
   ]
  },
  {
   "cell_type": "code",
   "execution_count": 9,
   "metadata": {},
   "outputs": [
    {
     "data": {
      "text/plain": [
       "100000"
      ]
     },
     "execution_count": 9,
     "metadata": {},
     "output_type": "execute_result"
    }
   ],
   "source": [
    "len(dielectron)"
   ]
  },
  {
   "cell_type": "code",
   "execution_count": null,
   "metadata": {},
   "outputs": [],
   "source": []
  },
  {
   "cell_type": "code",
   "execution_count": 33,
   "metadata": {},
   "outputs": [
    {
     "data": {
      "image/png": "[encoded data removed]",
      "text/plain": [
       "<Figure size 1080x360 with 1 Axes>"
      ]
     },
     "metadata": {
      "needs_background": "light"
     },
     "output_type": "display_data"
    }
   ],
   "source": [
    "plt.figure(figsize=(15,5))\n",
    "plt.hist(dielectron.pt1, alpha=1, bins=100, range=[0,100])\n",
    "plt.hist(dielectron.pt2, alpha=0.5, bins=100, range=[0,100])\n",
    "plt.show()"
   ]
  },
  {
   "cell_type": "code",
   "execution_count": null,
   "metadata": {},
   "outputs": [],
   "source": []
  },
  {
   "cell_type": "code",
   "execution_count": 10,
   "metadata": {},
   "outputs": [],
   "source": [
    "invariantti_massa = dielectron['M']"
   ]
  },
  {
   "cell_type": "code",
   "execution_count": 35,
   "metadata": {},
   "outputs": [],
   "source": [
    "isotenergiat = dielectron[(dielectron.pt1 >= 10) & (dielectron.pt2 >= 10)]"
   ]
  },
  {
   "cell_type": "code",
   "execution_count": 36,
   "metadata": {},
   "outputs": [
    {
     "data": {
      "text/html": [
       "<div>\n",
       "<style scoped>\n",
       "    .dataframe tbody tr th:only-of-type {\n",
       "        vertical-align: middle;\n",
       "    }\n",
       "\n",
       "    .dataframe tbody tr th {\n",
       "        vertical-align: top;\n",
       "    }\n",
       "\n",
       "    .dataframe thead th {\n",
       "        text-align: right;\n",
       "    }\n",
       "</style>\n",
       "<table border=\"1\" class=\"dataframe\">\n",
       "  <thead>\n",
       "    <tr style=\"text-align: right;\">\n",
       "      <th></th>\n",
       "      <th>Run</th>\n",
       "      <th>Event</th>\n",
       "      <th>E1</th>\n",
       "      <th>px1</th>\n",
       "      <th>py1</th>\n",
       "      <th>pz1</th>\n",
       "      <th>pt1</th>\n",
       "      <th>eta1</th>\n",
       "      <th>phi1</th>\n",
       "      <th>Q1</th>\n",
       "      <th>E2</th>\n",
       "      <th>px2</th>\n",
       "      <th>py2</th>\n",
       "      <th>pz2</th>\n",
       "      <th>pt2</th>\n",
       "      <th>eta2</th>\n",
       "      <th>phi2</th>\n",
       "      <th>Q2</th>\n",
       "      <th>M</th>\n",
       "    </tr>\n",
       "  </thead>\n",
       "  <tbody>\n",
       "    <tr>\n",
       "      <th>9</th>\n",
       "      <td>147115</td>\n",
       "      <td>367825395</td>\n",
       "      <td>27.8812</td>\n",
       "      <td>11.93900</td>\n",
       "      <td>-18.34620</td>\n",
       "      <td>17.269600</td>\n",
       "      <td>21.8888</td>\n",
       "      <td>0.724032</td>\n",
       "      <td>-0.993887</td>\n",
       "      <td>1</td>\n",
       "      <td>12.9218</td>\n",
       "      <td>-5.026300</td>\n",
       "      <td>11.60260</td>\n",
       "      <td>2.66263</td>\n",
       "      <td>12.6445</td>\n",
       "      <td>0.209050</td>\n",
       "      <td>1.979600</td>\n",
       "      <td>-1</td>\n",
       "      <td>34.2685</td>\n",
       "    </tr>\n",
       "    <tr>\n",
       "      <th>20</th>\n",
       "      <td>147115</td>\n",
       "      <td>369036793</td>\n",
       "      <td>28.2165</td>\n",
       "      <td>22.39330</td>\n",
       "      <td>-4.73948</td>\n",
       "      <td>16.499800</td>\n",
       "      <td>22.8894</td>\n",
       "      <td>0.669664</td>\n",
       "      <td>-0.208569</td>\n",
       "      <td>1</td>\n",
       "      <td>97.1467</td>\n",
       "      <td>-18.019500</td>\n",
       "      <td>9.98944</td>\n",
       "      <td>-94.93680</td>\n",
       "      <td>20.6032</td>\n",
       "      <td>-2.232480</td>\n",
       "      <td>2.635400</td>\n",
       "      <td>-1</td>\n",
       "      <td>97.5545</td>\n",
       "    </tr>\n",
       "    <tr>\n",
       "      <th>26</th>\n",
       "      <td>147115</td>\n",
       "      <td>368934550</td>\n",
       "      <td>39.6056</td>\n",
       "      <td>-31.37060</td>\n",
       "      <td>-24.16940</td>\n",
       "      <td>0.568363</td>\n",
       "      <td>39.6015</td>\n",
       "      <td>0.014352</td>\n",
       "      <td>-2.485130</td>\n",
       "      <td>1</td>\n",
       "      <td>70.1602</td>\n",
       "      <td>49.296400</td>\n",
       "      <td>-7.87303</td>\n",
       "      <td>-49.29850</td>\n",
       "      <td>49.9211</td>\n",
       "      <td>-0.872527</td>\n",
       "      <td>-0.158371</td>\n",
       "      <td>-1</td>\n",
       "      <td>91.2461</td>\n",
       "    </tr>\n",
       "    <tr>\n",
       "      <th>33</th>\n",
       "      <td>147115</td>\n",
       "      <td>369449951</td>\n",
       "      <td>33.4986</td>\n",
       "      <td>9.75679</td>\n",
       "      <td>14.44640</td>\n",
       "      <td>-28.605300</td>\n",
       "      <td>17.4326</td>\n",
       "      <td>-1.270470</td>\n",
       "      <td>0.976787</td>\n",
       "      <td>-1</td>\n",
       "      <td>56.7482</td>\n",
       "      <td>-12.666700</td>\n",
       "      <td>-18.81680</td>\n",
       "      <td>52.01770</td>\n",
       "      <td>22.6830</td>\n",
       "      <td>1.567580</td>\n",
       "      <td>-2.163280</td>\n",
       "      <td>1</td>\n",
       "      <td>86.9987</td>\n",
       "    </tr>\n",
       "    <tr>\n",
       "      <th>34</th>\n",
       "      <td>147115</td>\n",
       "      <td>369909985</td>\n",
       "      <td>15.5468</td>\n",
       "      <td>11.32960</td>\n",
       "      <td>2.54632</td>\n",
       "      <td>-10.337300</td>\n",
       "      <td>11.6122</td>\n",
       "      <td>-0.801576</td>\n",
       "      <td>0.221077</td>\n",
       "      <td>-1</td>\n",
       "      <td>36.8469</td>\n",
       "      <td>0.881584</td>\n",
       "      <td>11.03820</td>\n",
       "      <td>35.14360</td>\n",
       "      <td>11.0733</td>\n",
       "      <td>1.871990</td>\n",
       "      <td>1.491100</td>\n",
       "      <td>1</td>\n",
       "      <td>42.3804</td>\n",
       "    </tr>\n",
       "  </tbody>\n",
       "</table>\n",
       "</div>"
      ],
      "text/plain": [
       "       Run      Event       E1       px1       py1        pz1      pt1  \\\n",
       "9   147115  367825395  27.8812  11.93900 -18.34620  17.269600  21.8888   \n",
       "20  147115  369036793  28.2165  22.39330  -4.73948  16.499800  22.8894   \n",
       "26  147115  368934550  39.6056 -31.37060 -24.16940   0.568363  39.6015   \n",
       "33  147115  369449951  33.4986   9.75679  14.44640 -28.605300  17.4326   \n",
       "34  147115  369909985  15.5468  11.32960   2.54632 -10.337300  11.6122   \n",
       "\n",
       "        eta1      phi1  Q1       E2        px2       py2       pz2      pt2  \\\n",
       "9   0.724032 -0.993887   1  12.9218  -5.026300  11.60260   2.66263  12.6445   \n",
       "20  0.669664 -0.208569   1  97.1467 -18.019500   9.98944 -94.93680  20.6032   \n",
       "26  0.014352 -2.485130   1  70.1602  49.296400  -7.87303 -49.29850  49.9211   \n",
       "33 -1.270470  0.976787  -1  56.7482 -12.666700 -18.81680  52.01770  22.6830   \n",
       "34 -0.801576  0.221077  -1  36.8469   0.881584  11.03820  35.14360  11.0733   \n",
       "\n",
       "        eta2      phi2  Q2        M  \n",
       "9   0.209050  1.979600  -1  34.2685  \n",
       "20 -2.232480  2.635400  -1  97.5545  \n",
       "26 -0.872527 -0.158371  -1  91.2461  \n",
       "33  1.567580 -2.163280   1  86.9987  \n",
       "34  1.871990  1.491100   1  42.3804  "
      ]
     },
     "execution_count": 36,
     "metadata": {},
     "output_type": "execute_result"
    }
   ],
   "source": [
    "isotenergiat.head()"
   ]
  },
  {
   "cell_type": "code",
   "execution_count": 37,
   "metadata": {},
   "outputs": [],
   "source": [
    "invariantti_isot=isotenergiat['M']"
   ]
  },
  {
   "cell_type": "code",
   "execution_count": 45,
   "metadata": {},
   "outputs": [
    {
     "data": {
      "image/png": "[encoded data removed]",
      "text/plain": [
       "<Figure size 1080x360 with 1 Axes>"
      ]
     },
     "metadata": {
      "needs_background": "light"
     },
     "output_type": "display_data"
    }
   ],
   "source": [
    "plt.figure(figsize=(15,5))\n",
    "plt.hist(invariantti_isot, bins=200, range=[0,20])\n",
    "\n",
    "plt.xlabel('Invariantti massa [GeV/c²]')\n",
    "plt.ylabel('Tapahtumien lukumäärä')\n",
    "plt.title('invariantin massan histogrammi isoilla energioilla \\n') \n",
    "plt.show()"
   ]
  },
  {
   "cell_type": "code",
   "execution_count": 41,
   "metadata": {},
   "outputs": [
    {
     "name": "stderr",
     "output_type": "stream",
     "text": [
      "/srv/conda/lib/python3.6/site-packages/numpy/lib/histograms.py:746: RuntimeWarning: invalid value encountered in greater_equal\n",
      "  keep = (tmp_a >= first_edge)\n",
      "/srv/conda/lib/python3.6/site-packages/numpy/lib/histograms.py:747: RuntimeWarning: invalid value encountered in less_equal\n",
      "  keep &= (tmp_a <= last_edge)\n"
     ]
    },
    {
     "data": {
      "image/png": "[encoded data removed]",
      "text/plain": [
       "<Figure size 1080x360 with 1 Axes>"
      ]
     },
     "metadata": {
      "needs_background": "light"
     },
     "output_type": "display_data"
    }
   ],
   "source": [
    "plt.figure(figsize=(15,5))\n",
    "plt.hist(invariantti_massa, bins=100, range=[8,100])\n",
    "\n",
    "plt.xlabel('Invariantti massa [GeV/c²]')\n",
    "plt.ylabel('Tapahtumien lukumäärä')\n",
    "plt.title('invariantin massan histogrammi \\n') \n",
    "plt.show()\n"
   ]
  }
 ],
 "metadata": {
  "kernelspec": {
   "display_name": "Python 3",
   "language": "python",
   "name": "python3"
  },
  "language_info": {
   "codemirror_mode": {
    "name": "ipython",
    "version": 3
   },
   "file_extension": ".py",
   "mimetype": "text/x-python",
   "name": "python",
   "nbconvert_exporter": "python",
   "pygments_lexer": "ipython3",
   "version": "3.6.6"
  }
 },
 "nbformat": 4,
 "nbformat_minor": 2
}
